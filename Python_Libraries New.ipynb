{
  "cells": [
    {
      "cell_type": "markdown",
      "source": [
        "### Instructions\n",
        "\n",
        "* Sign up for the free course on Educative, __Learn Python 3 From Scratch__\n",
        "* https://www.educative.io/courses/learn-python-3-from-scratch\n",
        "* Complete the programming exercises below as you go through the course.\n",
        "* Delete or comment out the line of code in each cell which says `raise NotImplementedError()` and replace it with your own."
      ],
      "metadata": {
        "deletable": false,
        "editable": false,
        "nbgrader": {
          "cell_type": "markdown",
          "checksum": "d6e5adc30889334a5759d59e81f05081",
          "grade": false,
          "grade_id": "cell-6b872878cb1c65a5",
          "locked": true,
          "schema_version": 3,
          "solution": false,
          "task": false
        }
      },
      "id": "4edd9ef6"
    },
    {
      "cell_type": "markdown",
      "source": [
        "# Educative - Libraries\n",
        "\n",
        "https://www.educative.io/courses/learn-python-3-from-scratch/RLQYXWpMZvO"
      ],
      "metadata": {
        "deletable": false,
        "editable": false,
        "nbgrader": {
          "cell_type": "markdown",
          "checksum": "d3d877524bea85b46023332eca15b049",
          "grade": false,
          "grade_id": "cell-21a783646adf08b9",
          "locked": true,
          "schema_version": 3,
          "solution": false,
          "task": false
        }
      },
      "id": "38089d4c"
    },
    {
      "cell_type": "markdown",
      "source": [
        "### Exercises"
      ],
      "metadata": {
        "deletable": false,
        "editable": false,
        "nbgrader": {
          "cell_type": "markdown",
          "checksum": "35d8256bc9e5bb587fe94afe6f10e247",
          "grade": false,
          "grade_id": "cell-8c7c44d0e09b8ea2",
          "locked": true,
          "schema_version": 3,
          "solution": false,
          "task": false
        }
      },
      "id": "7eade948"
    },
    {
      "cell_type": "markdown",
      "source": [
        "Write code in the cell below.\n",
        "* Import the datetime module.\n",
        "* Create a variable called `date_today` and assign it the current date.\n",
        "* Print `date_today`\n",
        "* Create a variable called `time_today` and assign it the current time with the format `%H:%M:%S`.\n",
        "* Print `time_today`"
      ],
      "metadata": {
        "deletable": false,
        "editable": false,
        "nbgrader": {
          "cell_type": "markdown",
          "checksum": "40cddd34bf9988432ef8c7140b9f8b1d",
          "grade": false,
          "grade_id": "cell-d27e3a7608b4decc",
          "locked": true,
          "schema_version": 3,
          "solution": false,
          "task": false
        }
      },
      "id": "819c34c2"
    },
    {
      "cell_type": "code",
      "source": [
        "# Importing modules at the beginning of the program is a good practice\n",
        "\n",
        "import datetime\n",
        "date_today = datetime.date.today()\n",
        "print(date_today)\n",
        "\n",
        "time_today = datetime.datetime.now()\n",
        "print(time_today.strftime(\"%H:%M:%S\"))"
      ],
      "outputs": [
        {
          "output_type": "stream",
          "name": "stdout",
          "text": [
            "2023-09-13\n",
            "15:56:00\n"
          ]
        }
      ],
      "execution_count": null,
      "metadata": {
        "deletable": false,
        "nbgrader": {
          "cell_type": "code",
          "checksum": "f66c9adcdb6b26681ab80dbd01e72b6e",
          "grade": true,
          "grade_id": "cell-d8bc547ac57a0414",
          "locked": false,
          "points": 1,
          "schema_version": 3,
          "solution": true,
          "task": false
        },
        "noteable": {},
        "ExecuteTime": {
          "start_time": "2023-09-13T15:56:00.546429+00:00",
          "end_time": "2023-09-13T15:56:00.701988+00:00"
        }
      },
      "id": "865fa4ed"
    },
    {
      "cell_type": "markdown",
      "source": [
        "Write code in the cell below.\n",
        "* Import the date class from the datetime module.\n",
        "* Using the date class, create a variable called `date_today` and assign it the current date.\n",
        "* Print `date_today`"
      ],
      "metadata": {
        "deletable": false,
        "editable": false,
        "nbgrader": {
          "cell_type": "markdown",
          "checksum": "0023e1fe470fd9280f7012d012586552",
          "grade": false,
          "grade_id": "cell-542a79009ba51d21",
          "locked": true,
          "schema_version": 3,
          "solution": false,
          "task": false
        }
      },
      "id": "cc1e54d0"
    },
    {
      "cell_type": "code",
      "source": [
        "from datetime import date\n",
        "date_today = date.today()\n",
        "print(date_today)\n",
        "\n"
      ],
      "outputs": [
        {
          "output_type": "stream",
          "name": "stdout",
          "text": [
            "2023-09-13\n"
          ]
        }
      ],
      "execution_count": null,
      "metadata": {
        "deletable": false,
        "nbgrader": {
          "cell_type": "code",
          "checksum": "7dc84c26eba2291718c34d26f7585e23",
          "grade": true,
          "grade_id": "cell-28bc4e662db73470",
          "locked": false,
          "points": 1,
          "schema_version": 3,
          "solution": true,
          "task": false
        },
        "noteable": {},
        "ExecuteTime": {
          "start_time": "2023-09-13T16:00:02.859796+00:00",
          "end_time": "2023-09-13T16:00:03.014557+00:00"
        }
      },
      "id": "c7edc1db"
    },
    {
      "cell_type": "markdown",
      "source": [
        "Write code in the cell below.\n",
        "* Import the datetime module and name it `dt`.\n",
        "* Create a variable called `date_today` and assign it the current date.\n",
        "* Print `date_today`\n",
        "* Create a variable called `time_today` and assign it the current time with the format `%H:%M:%S`.\n",
        "* Print `time_today`"
      ],
      "metadata": {
        "deletable": false,
        "editable": false,
        "nbgrader": {
          "cell_type": "markdown",
          "checksum": "c619f7b99985acb2e02380b1539390d0",
          "grade": false,
          "grade_id": "cell-2916b0d70098ba84",
          "locked": true,
          "schema_version": 3,
          "solution": false,
          "task": false
        }
      },
      "id": "21b160fc"
    },
    {
      "cell_type": "code",
      "source": [
        "import datetime as dt\n",
        "date_today = date.today()\n",
        "print(date_today)\n",
        "time_today = dt.datetime.now()\n",
        "print(time_today.strftime(\"%H:%M:%S\"))\n",
        "\n"
      ],
      "outputs": [
        {
          "output_type": "stream",
          "name": "stdout",
          "text": [
            "2023-09-13\n",
            "16:02:38\n"
          ]
        }
      ],
      "execution_count": null,
      "metadata": {
        "deletable": false,
        "nbgrader": {
          "cell_type": "code",
          "checksum": "c8992ce346fb1715564d8bf3aa53e7fc",
          "grade": true,
          "grade_id": "cell-0a0222e82974cc6d",
          "locked": false,
          "points": 1,
          "schema_version": 3,
          "solution": true,
          "task": false
        },
        "noteable": {},
        "ExecuteTime": {
          "start_time": "2023-09-13T16:02:38.632516+00:00",
          "end_time": "2023-09-13T16:02:38.787116+00:00"
        }
      },
      "id": "acdeb327"
    },
    {
      "cell_type": "markdown",
      "source": [
        "Google the term `python standard library` to find the latest documentation on the Python Standard Library. Provide a short description of the purpose of some of the common modules listed below. (The short description on the main documentation page for the Python Standard Library is sufficient. I'm only trying to introduce you to the standard library and where you can find additional information on particular modules. You don't need to do any further reading for now.)\n",
        "\n",
        "* csv -\n",
        "* datetime -\n",
        "* math -\n",
        "* os -\n",
        "* re -\n",
        "* string -\n",
        "* unittest -"
      ],
      "metadata": {
        "deletable": false,
        "editable": false,
        "nbgrader": {
          "cell_type": "markdown",
          "checksum": "8f6e9f58ba72898cb06ca76505acd139",
          "grade": false,
          "grade_id": "cell-b0fb313c0e670468",
          "locked": true,
          "schema_version": 3,
          "solution": false,
          "task": false
        }
      },
      "id": "59c11dff"
    },
    {
      "cell_type": "markdown",
      "source": [
        "csv- CSV file reading and writing datetime-Basic date and time types\n",
        "math-Mathematical functions\n",
        "os- Miscellaneous operating system interfaces \n",
        "re- Regular expression operations \n",
        "string- Common string operations \n",
        "unittest- Unit testing framework "
      ],
      "metadata": {
        "deletable": false,
        "nbgrader": {
          "cell_type": "markdown",
          "checksum": "7629b21d87d429c896a6f67fafaaf672",
          "grade": true,
          "grade_id": "cell-dbe058708628b684",
          "locked": false,
          "points": 3,
          "schema_version": 3,
          "solution": true,
          "task": false
        }
      },
      "id": "a55f7bc3"
    },
    {
      "cell_type": "markdown",
      "source": [
        "Answer in the cell below.\n",
        "\n",
        "What is PyPI?"
      ],
      "metadata": {
        "deletable": false,
        "editable": false,
        "nbgrader": {
          "cell_type": "markdown",
          "checksum": "4925e14d95e4b602c93f384a224e6015",
          "grade": false,
          "grade_id": "cell-56e32cad4a7a773f",
          "locked": true,
          "schema_version": 3,
          "solution": false,
          "task": false
        }
      },
      "id": "468d2538"
    },
    {
      "cell_type": "markdown",
      "source": [
        "The Python Package Index (PyPI) is a repository of software for the Python programming language"
      ],
      "metadata": {
        "deletable": false,
        "nbgrader": {
          "cell_type": "markdown",
          "checksum": "53e73b2030481e25a7840f6116955b9b",
          "grade": true,
          "grade_id": "cell-8356dde32ef2e195",
          "locked": false,
          "points": 1,
          "schema_version": 3,
          "solution": true,
          "task": false
        }
      },
      "id": "b6640ceb"
    }
  ],
  "metadata": {
    "kernelspec": {
      "name": "python3",
      "display_name": "Python 3.9",
      "language": "python"
    },
    "language_info": {
      "codemirror_mode": {
        "name": "ipython",
        "version": 3
      },
      "file_extension": ".py",
      "mimetype": "text/x-python",
      "name": "python",
      "nbconvert_exporter": "python",
      "pygments_lexer": "ipython3",
      "version": "3.8.8"
    },
    "noteable": {
      "last_delta_id": "26c2b1c4-7813-4552-917f-5d630753c37f"
    },
    "selected_hardware_size": "small",
    "kernel_info": {
      "name": "python3"
    },
    "nteract": {
      "version": "noteable@2.9.0"
    }
  },
  "nbformat": 4,
  "nbformat_minor": 5
}